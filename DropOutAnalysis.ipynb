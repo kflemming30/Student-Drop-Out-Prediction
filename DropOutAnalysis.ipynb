{
 "cells": [
  {
   "cell_type": "markdown",
   "id": "7c15eec1-c7f5-4ac7-812f-8f0b965cefba",
   "metadata": {},
   "source": [
    "# University Student Dropout Prediction Project"
   ]
  },
  {
   "cell_type": "markdown",
   "id": "425bf7a1-6f31-4126-9b2e-912e44642068",
   "metadata": {},
   "source": [
    "### Introduction\n",
    "In this project, we aim to develop a machine learning model to predict the likelihood of university students dropping out. The challenge of student dropouts is a critical issue in higher education, impacting both the students' future and the educational institutions' effectiveness. Through predictive modeling, we seek to understand the key factors influencing dropout rates and identify at-risk students early in their academic journey.\n",
    "\n",
    "Our methodology is informed by the approach used by Niyogisubizo et al. in their two-layer ensemble machine learning model. However, our focus expands to the broader context of university-wide student retention, rather than individual classes."
   ]
  },
  {
   "cell_type": "markdown",
   "id": "a9431d26-b335-4556-996e-5fda6897afd5",
   "metadata": {},
   "source": [
    "### Project Objectives:\n",
    "\n",
    "1. **Data Collection:** Acquire comprehensive and relevant datasets from universities, encompassing various factors like student demographics, academic records, engagement levels, and more.\n",
    "2. **Data Preprocessing:** Clean and preprocess the data to ensure accuracy and reliability for our predictive analysis.\n",
    "3. **Exploratory Data Analysis (EDA):** Perform in-depth analysis to uncover trends and insights within the data, guiding our feature selection and modeling approach.\n",
    "4.  **Development:** Construct a predictive model utilizing a stacking ensemble method. This method will integrate different algorithms such as Random Forest, XGBoost, Gradient Boosting, and Feed-forward Neural Networks, leveraging their combined strengths.\n",
    "5. **Model Evaluation and Tuning:** Utilize relevant performance metrics to evaluate and refine the model, aiming for enhanced predictive accuracy and robustness.\n",
    "6. **Interpretation and Reporting:** Interpret the results to provide meaningful insights and recommendations, focusing on strategies to improve student retention rates at the university level."
   ]
  },
  {
   "cell_type": "markdown",
   "id": "f35d5057-3c68-40c7-8b6e-ff53a819aa86",
   "metadata": {},
   "source": [
    "## 1. Data Collection:\n",
    "\n",
    "**Sources Include:**\n",
    "University requested student drop out data"
   ]
  },
  {
   "cell_type": "markdown",
   "id": "35a65927-53dc-455c-ae28-bd8d71f511bb",
   "metadata": {},
   "source": [
    "## 2. Data Preprocessing"
   ]
  },
  {
   "cell_type": "code",
   "execution_count": 2,
   "id": "166baa13-8190-4ff4-ab46-1c7a2a764f1c",
   "metadata": {},
   "outputs": [],
   "source": [
    "# Importing essential libraries\n",
    "\n",
    "import pandas as pd\n",
    "import numpy as np"
   ]
  },
  {
   "cell_type": "code",
   "execution_count": 6,
   "id": "3e8f73ce-82e6-40a9-9c68-55e5876f3505",
   "metadata": {},
   "outputs": [
    {
     "data": {
      "text/html": [
       "<div>\n",
       "<style scoped>\n",
       "    .dataframe tbody tr th:only-of-type {\n",
       "        vertical-align: middle;\n",
       "    }\n",
       "\n",
       "    .dataframe tbody tr th {\n",
       "        vertical-align: top;\n",
       "    }\n",
       "\n",
       "    .dataframe thead th {\n",
       "        text-align: right;\n",
       "    }\n",
       "</style>\n",
       "<table border=\"1\" class=\"dataframe\">\n",
       "  <thead>\n",
       "    <tr style=\"text-align: right;\">\n",
       "      <th></th>\n",
       "      <th>PIDM</th>\n",
       "      <th>Cohort</th>\n",
       "      <th>SEX</th>\n",
       "      <th>Degree</th>\n",
       "      <th>Major 1</th>\n",
       "      <th>1st Year GPA</th>\n",
       "      <th>Dorm</th>\n",
       "      <th>1st Year Retention</th>\n",
       "      <th>College</th>\n",
       "      <th>Total Earned Hours</th>\n",
       "      <th>SAT</th>\n",
       "      <th>Major 2</th>\n",
       "      <th>Advisor</th>\n",
       "    </tr>\n",
       "  </thead>\n",
       "  <tbody>\n",
       "    <tr>\n",
       "      <th>0</th>\n",
       "      <td>1</td>\n",
       "      <td>202109F</td>\n",
       "      <td>M</td>\n",
       "      <td>BS</td>\n",
       "      <td>Mechanical Engineering</td>\n",
       "      <td>2.49</td>\n",
       "      <td>Campion Hall</td>\n",
       "      <td>1</td>\n",
       "      <td>SEC</td>\n",
       "      <td>36</td>\n",
       "      <td>NaN</td>\n",
       "      <td>NaN</td>\n",
       "      <td>1.0</td>\n",
       "    </tr>\n",
       "    <tr>\n",
       "      <th>1</th>\n",
       "      <td>2</td>\n",
       "      <td>202109F</td>\n",
       "      <td>M</td>\n",
       "      <td>BS</td>\n",
       "      <td>Biology</td>\n",
       "      <td>3.18</td>\n",
       "      <td>Commuter</td>\n",
       "      <td>1</td>\n",
       "      <td>CAS</td>\n",
       "      <td>47</td>\n",
       "      <td>NaN</td>\n",
       "      <td>NaN</td>\n",
       "      <td>2.0</td>\n",
       "    </tr>\n",
       "    <tr>\n",
       "      <th>2</th>\n",
       "      <td>3</td>\n",
       "      <td>202109F</td>\n",
       "      <td>M</td>\n",
       "      <td>BS</td>\n",
       "      <td>Chemistry</td>\n",
       "      <td>2.86</td>\n",
       "      <td>Regis Hall</td>\n",
       "      <td>1</td>\n",
       "      <td>CAS</td>\n",
       "      <td>46</td>\n",
       "      <td>NaN</td>\n",
       "      <td>NaN</td>\n",
       "      <td>3.0</td>\n",
       "    </tr>\n",
       "    <tr>\n",
       "      <th>3</th>\n",
       "      <td>4</td>\n",
       "      <td>202109F</td>\n",
       "      <td>M</td>\n",
       "      <td>BS</td>\n",
       "      <td>DSB Undeclared</td>\n",
       "      <td>3.84</td>\n",
       "      <td>Gonzaga Hall</td>\n",
       "      <td>1</td>\n",
       "      <td>DSB</td>\n",
       "      <td>45</td>\n",
       "      <td>1300.0</td>\n",
       "      <td>NaN</td>\n",
       "      <td>4.0</td>\n",
       "    </tr>\n",
       "    <tr>\n",
       "      <th>4</th>\n",
       "      <td>5</td>\n",
       "      <td>202109F</td>\n",
       "      <td>M</td>\n",
       "      <td>BS</td>\n",
       "      <td>Management</td>\n",
       "      <td>2.69</td>\n",
       "      <td>Commuter</td>\n",
       "      <td>1</td>\n",
       "      <td>DSB</td>\n",
       "      <td>42</td>\n",
       "      <td>NaN</td>\n",
       "      <td>NaN</td>\n",
       "      <td>5.0</td>\n",
       "    </tr>\n",
       "  </tbody>\n",
       "</table>\n",
       "</div>"
      ],
      "text/plain": [
       "   PIDM   Cohort SEX Degree                 Major 1  1st Year GPA  \\\n",
       "0     1  202109F   M     BS  Mechanical Engineering          2.49   \n",
       "1     2  202109F   M     BS                 Biology          3.18   \n",
       "2     3  202109F   M     BS               Chemistry          2.86   \n",
       "3     4  202109F   M     BS          DSB Undeclared          3.84   \n",
       "4     5  202109F   M     BS              Management          2.69   \n",
       "\n",
       "           Dorm  1st Year Retention College  Total Earned Hours     SAT  \\\n",
       "0  Campion Hall                   1     SEC                  36     NaN   \n",
       "1      Commuter                   1     CAS                  47     NaN   \n",
       "2    Regis Hall                   1     CAS                  46     NaN   \n",
       "3  Gonzaga Hall                   1     DSB                  45  1300.0   \n",
       "4      Commuter                   1     DSB                  42     NaN   \n",
       "\n",
       "  Major 2  Advisor  \n",
       "0     NaN      1.0  \n",
       "1     NaN      2.0  \n",
       "2     NaN      3.0  \n",
       "3     NaN      4.0  \n",
       "4     NaN      5.0  "
      ]
     },
     "execution_count": 6,
     "metadata": {},
     "output_type": "execute_result"
    }
   ],
   "source": [
    "url = \"https://github.com/kflemming30/Student-Drop-Out-Prediction/raw/main/OIR_Student%20Data%20Request.xlsx\"\n",
    "student_df = pd.read_excel(url)\n",
    "student_df.head()\n"
   ]
  }
 ],
 "metadata": {
  "kernelspec": {
   "display_name": "Python 3 (ipykernel)",
   "language": "python",
   "name": "python3"
  },
  "language_info": {
   "codemirror_mode": {
    "name": "ipython",
    "version": 3
   },
   "file_extension": ".py",
   "mimetype": "text/x-python",
   "name": "python",
   "nbconvert_exporter": "python",
   "pygments_lexer": "ipython3",
   "version": "3.8.15"
  }
 },
 "nbformat": 4,
 "nbformat_minor": 5
}
